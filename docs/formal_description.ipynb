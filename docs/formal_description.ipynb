{
 "cells": [
  {
   "cell_type": "markdown",
   "metadata": {},
   "source": [
    "# Floor change detector"
   ]
  },
  {
   "cell_type": "markdown",
   "metadata": {},
   "source": [
    "## Operating Principle\n",
    "\n",
    "For detecting altitude changes, the detector uses:\n",
    "1. Measurements from $m$ redundant pressure sensors\n",
    "2. Calibrated differences in pressure between floors expressed with respect to a reference floor\n",
    "3. A tolerance threshold $\\tau_p$ defining ranges of allowed pressure difference changes corresponding to different floors\n",
    "\n",
    "At any point in time, the detector maintains:\n",
    "* A matrix $P$ of size $m \\times n$ with the most recent pressure measurements, where $m$ is the number of redundant pressure sensors and $n$ is a window size that specifies the number of measurements that are kept\n",
    "* The current floor $f$\n",
    "* An absolute measurement value $p$, which is an averaged filtered measurement over the sensors (see below) and represents the measured pressure at $f$\n",
    "\n",
    "Given $P$, the detection of a floor change is a two-step process:\n",
    "\n",
    "1. The $n$ measurements from the $m$ sensors are filtered using a median filter; the medians are then averaged over the number of sensors:\n",
    "\\begin{equation*}\n",
    "    \\bar{p} = \\frac{\\sum_{i=1}^{m}\\mathrm{med}(P_{i})}{m}\n",
    "\\end{equation*}\n",
    "2. The difference in pressure between $\\bar{p}$ and $p$ is calculated\n",
    "\\begin{equation*}\n",
    "    \\Delta_p = \\bar{p} - p\n",
    "\\end{equation*}\n",
    "and the floor corresponding to the observed change (based on both the calibrated reference changes in pressure and the tolerance threshold $\\tau_p$) is taken as the current floor $\\bar{f}$. If $\\bar{f} \\neq f$, $p$ is updated with the value of $\\bar{p}$.\n",
    "\n",
    "When the component is started and before the first $n$ measurements are received, the detector simply returns a default value of 0."
   ]
  }
 ],
 "metadata": {
  "kernelspec": {
   "display_name": "Python 3",
   "language": "python",
   "name": "python3"
  },
  "language_info": {
   "codemirror_mode": {
    "name": "ipython",
    "version": 3
   },
   "file_extension": ".py",
   "mimetype": "text/x-python",
   "name": "python",
   "nbconvert_exporter": "python",
   "pygments_lexer": "ipython3",
   "version": "3.5.2"
  }
 },
 "nbformat": 4,
 "nbformat_minor": 2
}
